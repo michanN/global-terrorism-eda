{
 "cells": [
  {
   "cell_type": "markdown",
   "metadata": {},
   "source": [
    "# 1. Introduction\n",
    "\n",
    "Terrorism. A word that most of us associate with terrible memories and/or- experiences. Every day we are reminded through news or by first-hand experience that this kind of terrible action seems to occur more often than ever before. This begs the question. Has the number of terrorist attacks increased over the years?\n",
    "\n",
    "\n",
    "Terrorism can be a controversial subject especially with regards to the current media climate and all the talk about fake news. Therefore, I'll let the data speak for itself and be very explicit when I deviate from this to share my own thoughts.\n",
    "\n",
    "So, with this in mind, I'm going to explore the data and see if any trends emerge. I'll mainly try to answer the following questions:\n",
    "- Has the number of attacks increased over the years?\n",
    "- Which are the most affected continents, countries, cities?\n",
    "- Relationship between happiness score and terrorism?"
   ]
  },
  {
   "cell_type": "markdown",
   "metadata": {},
   "source": [
    "# 2. Data Exploration"
   ]
  },
  {
   "cell_type": "markdown",
   "metadata": {},
   "source": [
    "# 3. Data Preparation"
   ]
  },
  {
   "cell_type": "markdown",
   "metadata": {},
   "source": [
    "# 4. Conclusion"
   ]
  },
  {
   "cell_type": "code",
   "execution_count": null,
   "metadata": {},
   "outputs": [],
   "source": []
  }
 ],
 "metadata": {
  "kernelspec": {
   "display_name": "Python 3",
   "language": "python",
   "name": "python3"
  },
  "language_info": {
   "codemirror_mode": {
    "name": "ipython",
    "version": 3
   },
   "file_extension": ".py",
   "mimetype": "text/x-python",
   "name": "python",
   "nbconvert_exporter": "python",
   "pygments_lexer": "ipython3",
   "version": "3.6.5"
  }
 },
 "nbformat": 4,
 "nbformat_minor": 2
}
