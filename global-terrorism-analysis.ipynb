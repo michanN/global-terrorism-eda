{
 "cells": [
  {
   "cell_type": "markdown",
   "metadata": {},
   "source": [
    "# 1. Introduction\n",
    "\n",
    "Terrorism. A word that most of us associate with terrible memories and experiences. Every day we are reminded by the news or by the first-hand experience that this kind of terrible action seems to occur more often than ever before. This begs the question. Has the number of terrorist attacks increased over the years?\n",
    "\n",
    "So, with this in mind, I'm going to explore the data and see if any trends emerge. I'll mainly try to answer the following questions:\n",
    "- Has the number of attacks increased over the years?\n",
    "- Which regions are most affected with regards to:\n",
    "    - Number of attacks\n",
    "    - Casualties\n",
    "    - Successful attacks\n",
    "- Which type of attack has been the most common and killed most people over the years?\n",
    "\n",
    "Terrorism can be a controversial subject especially with regards to the current media climate and all the talk about fake news. Therefore, I'll let the data speak for itself and be very explicit when I deviate from this to share my thoughts.\n",
    "\n",
    "The dataset used in this project is the [Global Terrorism Database](https://www.kaggle.com/START-UMD/gtd) which contains more than 180,000 terrorist attacks worldwide between 1970-2017."
   ]
  },
  {
   "cell_type": "markdown",
   "metadata": {},
   "source": [
    "# 2. Data Exploration\n",
    "\n",
    "The first step will be to import all the necessary libraries and files."
   ]
  },
  {
   "cell_type": "code",
   "execution_count": null,
   "metadata": {},
   "outputs": [],
   "source": [
    "import pandas as pd\n",
    "import numpy as np\n",
    "import os\n",
    "import io\n",
    "import base64\n",
    "\n",
    "import matplotlib.pyplot as plt\n",
    "from plotly import tools\n",
    "import plotly.graph_objs as go\n",
    "import plotly\n",
    "import plotly.offline as py\n",
    "import cartopy.crs as ccrs\n",
    "\n",
    "from IPython.display import HTML\n",
    "\n",
    "py.init_notebook_mode(connected=True)\n",
    "%matplotlib inline"
   ]
  },
  {
   "cell_type": "code",
   "execution_count": null,
   "metadata": {},
   "outputs": [],
   "source": [
    "df_raw = pd.read_csv('globalterrorismdb_0718dist.csv',encoding='ISO-8859-1', low_memory=False)\n",
    "df_raw.head(1)"
   ]
  },
  {
   "cell_type": "code",
   "execution_count": null,
   "metadata": {},
   "outputs": [],
   "source": [
    "def display_all(df, rows=1000, columns=1000):\n",
    "    \"\"\"\n",
    "    Displays specified/default number of rows and columns\n",
    "    \n",
    "    Args:\n",
    "        df (DataFrame): DataFrame to display\n",
    "        rows (int): Number of rows\n",
    "        columns (int): Number of columns\n",
    "    \"\"\"\n",
    "    with pd.option_context(\"display.max_rows\", rows, \"display.max_columns\", columns):\n",
    "        display(df)"
   ]
  },
  {
   "cell_type": "code",
   "execution_count": null,
   "metadata": {
    "scrolled": false
   },
   "outputs": [],
   "source": [
    "display_all(df_raw.head(3))"
   ]
  },
  {
   "cell_type": "code",
   "execution_count": null,
   "metadata": {},
   "outputs": [],
   "source": [
    "rows = df_raw.shape[0]\n",
    "columns = df_raw.shape[1]\n",
    "print(f'Rows in dataset: {rows}')\n",
    "print(f'Columns in dataset: {columns}')"
   ]
  },
  {
   "cell_type": "markdown",
   "metadata": {},
   "source": [
    "The dataset contains 181,691 rows (attacks) and 135 columns (features). Next up is to remove the features that don't seem to provide any value for this analysis as well as renaming the remaining. I'll also create a new feature, \"casualties\" which will be the combined value of nkill(killed) and nwound(injured)."
   ]
  },
  {
   "cell_type": "markdown",
   "metadata": {},
   "source": [
    "After working on the dataset for a while, I discovered that it appears to contain duplicated data. There are examples of exact duplicates. A possible explanation for this may have to do with how the data is collected. If the sources are in agreement, there is a risk for exact duplicates to make it into the dataset by mistake."
   ]
  },
  {
   "cell_type": "code",
   "execution_count": null,
   "metadata": {},
   "outputs": [],
   "source": [
    "columns = list(df_raw.columns)\n",
    "# remove eventid (unique value for each row)\n",
    "del columns[0]\n",
    "df_raw = df_raw.drop_duplicates(subset=columns)\n",
    "new_rows = df_raw.shape[0]\n",
    "print(f'Rows in dataset after exact duplicates removed: {df_raw.shape[0]}')\n",
    "print(f'Rows removed: {rows - new_rows}')"
   ]
  },
  {
   "cell_type": "code",
   "execution_count": null,
   "metadata": {},
   "outputs": [],
   "source": [
    "df_raw.rename(columns={\n",
    "    'iyear': 'Year',\n",
    "    'imonth': 'Month',\n",
    "    'iday': 'Day',\n",
    "    'country_txt': 'Country',\n",
    "    'city': 'City',\n",
    "    'region_txt': 'Region',\n",
    "    'latitude': 'Latitude',\n",
    "    'longitude': 'Longitude',\n",
    "    'attacktype1_txt': 'AttackType',\n",
    "    'target1': 'Target',\n",
    "    'targtype1_txt': 'TargetType',\n",
    "    'nkill': 'Killed',\n",
    "    'nwound': 'Injured',\n",
    "    'success': 'Success',\n",
    "    'gname': 'Group',   \n",
    "}, inplace=True)\n",
    "df_raw['Casualties'] = df_raw['Killed'] + df_raw['Injured']"
   ]
  },
  {
   "cell_type": "code",
   "execution_count": null,
   "metadata": {},
   "outputs": [],
   "source": [
    "df = df_raw[['Year', 'Month', 'Day', 'Country', 'City', 'Region', 'Latitude', 'Longitude', 'AttackType', 'Target', 'TargetType', 'Killed', 'Injured', 'Success', 'Casualties', 'Group']]"
   ]
  },
  {
   "cell_type": "code",
   "execution_count": null,
   "metadata": {
    "scrolled": false
   },
   "outputs": [],
   "source": [
    "df.head(3)"
   ]
  },
  {
   "cell_type": "markdown",
   "metadata": {},
   "source": [
    "Those steps made the dataset less noisy and easier to work with. Here is also a great place to start doing some fundamental analysis. Let's assess how many missing values and which kind of features the dataset contains.\n",
    "\n",
    "## 2.1 Basic Analysis"
   ]
  },
  {
   "cell_type": "code",
   "execution_count": null,
   "metadata": {},
   "outputs": [],
   "source": [
    "num_cols = df._get_numeric_data().columns\n",
    "cat_cols = df.select_dtypes(include=['object']).columns"
   ]
  },
  {
   "cell_type": "code",
   "execution_count": null,
   "metadata": {},
   "outputs": [],
   "source": [
    "num_cols"
   ]
  },
  {
   "cell_type": "code",
   "execution_count": null,
   "metadata": {},
   "outputs": [],
   "source": [
    "cat_cols"
   ]
  },
  {
   "cell_type": "code",
   "execution_count": null,
   "metadata": {
    "scrolled": true
   },
   "outputs": [],
   "source": [
    "df.describe()"
   ]
  },
  {
   "cell_type": "code",
   "execution_count": null,
   "metadata": {},
   "outputs": [],
   "source": [
    "df.info()"
   ]
  },
  {
   "cell_type": "code",
   "execution_count": null,
   "metadata": {},
   "outputs": [],
   "source": [
    "df.isnull().sum().sort_values()"
   ]
  },
  {
   "cell_type": "markdown",
   "metadata": {},
   "source": [
    "Most of the features that are important to this investigation have no or only a few missing values. One observation that could be a problem further down the road is if an attack has missing values in both the city and longitude/latitude columns. If this is the case, it will be hard to pinpoint the exact location of the attack. However, if only one of those is missing it should be reasonably straightforward to find the location and then update the attack with the correct value."
   ]
  },
  {
   "cell_type": "markdown",
   "metadata": {},
   "source": [
    "# 3. Data Preparation"
   ]
  },
  {
   "cell_type": "markdown",
   "metadata": {},
   "source": [
    "As noted earlier most of the columns that are important to this analysis have zero or a low amount of missing values.\n",
    "\n",
    "To be able to plot each attack on a map its necessary to have the longitude and latitude, but some attacks have missing values in those columns. I planned on using Google maps geocoding API to retrieve long/lat for each row that had a value in the \"City\" column. I'll not use this approach since Google has changed from a free limit to pay as you go. The result of this is simply that those attacks will not be plotted on the map.\n",
    "\n",
    "Because this analysis will not make use of any machine learning model, no imputing of missing data will be made. The fact that some attacks have missing data with regards to killed/injured should not make any difference because Pandas excludes them from the sum()/mean() operations. If I were to use a machine learning model, I would start by trying to figure out why the data is missing. Do we have missing values randomly or do the missing values convey information about the attack? After this I would either remove the rows with missing values or impute the mean value.\n",
    "\n",
    "No encoding/creating dummy variables will be applied to the categorical variables in the dataset (same argument as above)."
   ]
  },
  {
   "cell_type": "markdown",
   "metadata": {},
   "source": [
    "# 4. Analysis\n",
    "\n",
    "This analysis will try to answer my three main questions as well as any sub-questions. First out is the question of whether the number of attacks has increased over the years. Following this will be an investigation on a regional level, and lastly, I'll try and get an understanding of the most used form of attack type."
   ]
  },
  {
   "cell_type": "markdown",
   "metadata": {},
   "source": [
    "## 4.1 Attacks on global level"
   ]
  },
  {
   "cell_type": "code",
   "execution_count": null,
   "metadata": {},
   "outputs": [],
   "source": [
    "tickvals = np.arange(df['Year'].min(), df['Year'].max() + 1)\n",
    "\n",
    "data =  [go.Bar(\n",
    "        y = df['Year'].value_counts(sort=False),\n",
    "        x = df['Year'].value_counts(sort=False).index,\n",
    "        marker = dict(\n",
    "            color='rgba(222,45,38,0.8)'\n",
    "        )\n",
    ")]\n",
    "\n",
    "layout = go.Layout(\n",
    "    title=\"Number of Terrorist Attacks by Year\",\n",
    "    xaxis=dict(\n",
    "        title='Year',\n",
    "        tickvals=tickvals\n",
    "    ),\n",
    "    yaxis=dict(\n",
    "        title='Number of Attacks'\n",
    "    )\n",
    ")\n",
    "\n",
    "\n",
    "figure = go.Figure(data=data, layout=layout)\n",
    "py.iplot(figure)"
   ]
  },
  {
   "cell_type": "markdown",
   "metadata": {},
   "source": [
    "Missing data for the year 1993 looks to be due to issues with that year. More information about this can be found [here](https://www.start.umd.edu/gtd/faq/). Henceforth I'll remove the year 1993 from the visuals/analysis.\n",
    "\n",
    "By looking at the plot, one might come to the shocking conclusion that there has been a drastic increase in the number of attacks in the last 5-6 years. It's important to note that this could be due to the change that was made in 2012 to the data collection methodology.\n",
    "In this [article](https://www.start.umd.edu/news/discussion-point-benefits-and-drawbacks-methodological-advancements-data-collection-and-coding), Michael Jensen writes: _\"While there is no simple answer to this question, what is certain is that by the start of the 2012 collection effort, the staff working on the GTD had become better than ever at identifying terrorist attacks, regardless of where they happened to occur.\"_ Later in the same article, he writes: _\"With that said, the GTD team believes that some portion of the observable increase in terrorist activity since 2011 is the result of new advancements in collection methodology.\"_\n",
    "\n",
    "This suggests that there may well be a connection between the new data collection methodology and the increase in reported attacks. Therefore, the results shown here on forth should be considered with care."
   ]
  },
  {
   "cell_type": "code",
   "execution_count": null,
   "metadata": {},
   "outputs": [],
   "source": [
    "# list of years between 1970 - 2017\n",
    "years = [x for x in range(1970, 2018) if x != 1993]"
   ]
  },
  {
   "cell_type": "code",
   "execution_count": null,
   "metadata": {},
   "outputs": [],
   "source": [
    "avg_killed = df.groupby(['Year'])['Killed'].mean()\n",
    "avg_injured = df.groupby(['Year'])['Injured'].mean()\n",
    "\n",
    "trace0 = go.Scatter(\n",
    "    x=years,\n",
    "    y=avg_killed,\n",
    "    name='Killed',\n",
    "    marker=dict(\n",
    "        color= 'rgba(222,45,38,0.8)'\n",
    "    ),\n",
    "    line=dict(),\n",
    "    opacity = 0.8\n",
    ")\n",
    "\n",
    "trace1 = go.Scatter(\n",
    "    x=years,\n",
    "    y=avg_injured,\n",
    "    name='Injured',\n",
    "    line=dict(),\n",
    "    marker=dict(\n",
    "        color='rgb(49,130,189)'\n",
    "    ),\n",
    "    opacity = 0.8\n",
    ")\n",
    "\n",
    "layout = dict(\n",
    "    title = 'Average Killed/Injured per Attack by Year',\n",
    "    xaxis = dict(\n",
    "        title=\"Year\"\n",
    "    ),\n",
    "    yaxis = dict(\n",
    "        title=\"Count\"\n",
    "    )\n",
    ")\n",
    "\n",
    "data = [trace0, trace1]\n",
    "\n",
    "fig = dict(data=data, layout=layout)\n",
    "py.iplot(fig)"
   ]
  },
  {
   "cell_type": "code",
   "execution_count": null,
   "metadata": {},
   "outputs": [],
   "source": [
    "avg_killed = df.groupby(['Year'])['Killed'].sum()\n",
    "avg_injured = df.groupby(['Year'])['Injured'].sum()\n",
    "\n",
    "trace0 = go.Scatter(\n",
    "    x=years,\n",
    "    y=avg_killed,\n",
    "    name='Killed',\n",
    "    marker=dict(\n",
    "        color= 'rgba(222,45,38,0.8)'\n",
    "    ),\n",
    "    line=dict(),\n",
    "    opacity = 0.8\n",
    ")\n",
    "\n",
    "trace1 = go.Scatter(\n",
    "    x=years,\n",
    "    y=avg_injured,\n",
    "    name='Injured',\n",
    "    line=dict(),\n",
    "    marker=dict(\n",
    "        color='rgb(49,130,189)'\n",
    "    ),\n",
    "    opacity = 0.8\n",
    ")\n",
    "\n",
    "layout = dict(\n",
    "    title = 'Total Killed/Injured by Year',\n",
    "    xaxis = dict(\n",
    "        title=\"Year\"\n",
    "    ),\n",
    "    yaxis = dict(\n",
    "        title=\"Count\"\n",
    "    )\n",
    ")\n",
    "\n",
    "data = [trace0, trace1]\n",
    "\n",
    "fig = dict(data=data, layout=layout)\n",
    "py.iplot(fig)"
   ]
  },
  {
   "cell_type": "markdown",
   "metadata": {},
   "source": [
    "When looking at the later plot an expected trend emerges, a steady increase in the number of killed/injured people between 2003 - 2015 and then a dip. This is probably related to the rise in attacks observed earlier during the same period. Only a couple of years (mid-1980, 1997 & 2014) have a higher number of killed vs. injured.\n",
    "\n",
    "The big spike in the year 2001 is reasonably explained by the attack in New York City. \n",
    "\n",
    "\n",
    "During the period between 1995 and 2007, it appears to have occurred a few attacks with a large number of people killed/injured than usual. Hence the higher averages. However, since then the situation seems to have stabilized."
   ]
  },
  {
   "cell_type": "markdown",
   "metadata": {},
   "source": [
    "## 4.2 Attacks on a regional level\n",
    "\n",
    "Let's investigate each region.\n",
    "\n",
    "After some basic plots, I'll try to combine the insights gained so far to create a video that shows the attacks on a world map. I think that this will illustrate the evolution throughout the years in a good way."
   ]
  },
  {
   "cell_type": "code",
   "execution_count": null,
   "metadata": {},
   "outputs": [],
   "source": [
    "def plot_attacks_per_location(location, top=None):\n",
    "    \"\"\"\n",
    "    Plots total number of terrorist attacks per location.\n",
    "    \n",
    "    Args:\n",
    "        location (string): Name of the column (region/country/city)\n",
    "        top (int): Default None. Number of location to show.\n",
    "    \"\"\"\n",
    "    # different red colors\n",
    "    colors_list = ['rgba(103,0,13,1)', 'rgba(165,15,21,1)', 'rgba(203,24,29,1)', 'rgba(239,59,44,1)',\n",
    "                      'rgba(251,106,74,1)','rgba(252,146,114,1)','rgba(252,187,161,1)','rgba(254,224,210,1)',\n",
    "                      'rgba(255,245,240,1)']\n",
    "    \n",
    "    # code below is to make sure that all the bars after 8 gets the same color\n",
    "    colors_to_use = []\n",
    "    location_num = top if top != None else df[location].shape[0]\n",
    "    #for i in range(location_num):\n",
    "        #if i > 8:\n",
    "        #    colors_to_use.append(colors_list[8])\n",
    "        #else:\n",
    "        #    colors_to_use.append(colors_list[i])\n",
    "\n",
    "    data =  [go.Bar(\n",
    "            y = df[location].value_counts()[:top if top != None else len(df[location])],\n",
    "            x = df[location].value_counts()[:top if top != None else len(df[location])].index,\n",
    "            marker=dict(\n",
    "                color='rgba(222,45,38,0.8)')\n",
    "    )]\n",
    "\n",
    "    layout = go.Layout(\n",
    "        title=f'Number of Terrorist Attacks per {location} (1970 - 2017)',\n",
    "        xaxis=dict(\n",
    "            title=location,\n",
    "        ),\n",
    "        yaxis=dict(\n",
    "            title='Number of Attacks'\n",
    "        )\n",
    "    )\n",
    "\n",
    "    figure = go.Figure(data=data, layout=layout)\n",
    "    py.iplot(figure)"
   ]
  },
  {
   "cell_type": "code",
   "execution_count": null,
   "metadata": {
    "scrolled": false
   },
   "outputs": [],
   "source": [
    "plot_attacks_per_location('Region')"
   ]
  },
  {
   "cell_type": "code",
   "execution_count": null,
   "metadata": {},
   "outputs": [],
   "source": [
    "def attacks_region(region):\n",
    "    \"\"\"\n",
    "    Returns the total amount of attacks for specified region\n",
    "    \n",
    "    Args:\n",
    "        region (string): Region for which we want the total number of attacks\n",
    "    Returns:\n",
    "        attacks (int): Total number of attacks for region\n",
    "    \"\"\"\n",
    "    attacks = len(df[df['Region'] == region])\n",
    "    return attacks\n",
    "    "
   ]
  },
  {
   "cell_type": "code",
   "execution_count": null,
   "metadata": {},
   "outputs": [],
   "source": [
    "# dataframe\n",
    "df_temp = pd.DataFrame({\n",
    "    'NumberOfAttacks' : df.groupby( [ \"Year\", \"Region\"] ).size(),\n",
    "    'TotalCasualties': 0,\n",
    "    'Successful': 0,\n",
    "    'Failed': 0\n",
    "}).reset_index()\n",
    "\n",
    "for index, row in df_temp.iterrows():\n",
    "    total_casualties = df.loc[(df['Region'] == row['Region']) & (df['Year'] == row['Year']), 'Casualties'].sum()\n",
    "    df_temp.at[index, 'TotalCasualties'] = total_casualties\n",
    "    \n",
    "    sucessfull = df.loc[(df['Region'] == row['Region']) & (df['Year'] == row['Year']) & (df['Success'] == 1), 'Success'].sum()\n",
    "    df_temp.at[index, 'Successful'] = sucessfull\n",
    "    failed = len(df.loc[(df['Region'] == row['Region']) & (df['Year'] == row['Year']) & (df['Success'] == 0), 'Success'])\n",
    "    df_temp.at[index, 'Failed'] = failed"
   ]
  },
  {
   "cell_type": "code",
   "execution_count": null,
   "metadata": {},
   "outputs": [],
   "source": [
    "total_attacks = df.shape[0]\n",
    "\n",
    "middle_east_north_africa_attacks= attacks_region('Middle East & North Africa')\n",
    "south_asia_attacks = attacks_region('South Asia')\n",
    "central_asia_attacks = attacks_region('Central Asia')\n",
    "australasia_oceania_attacks = attacks_region('Australasia & Oceania')\n",
    "\n",
    "print('% of total attacks in Middle East and North Afrika: {:0.2f} %'.format((middle_east_north_africa_attacks/total_attacks) * 100))\n",
    "print('% of total attacks in South Asia: {:0.2f} %'.format((south_asia_attacks/total_attacks) * 100))\n",
    "print('% of total attacks in Central Asia: {:0.2f} %'.format((central_asia_attacks/total_attacks) * 100))\n",
    "print('% of total attacks in Australasia & Oceania {:0.2f} %'.format((australasia_oceania_attacks/total_attacks) * 100))"
   ]
  },
  {
   "cell_type": "markdown",
   "metadata": {},
   "source": [
    "It's quite clear which regions that have endured most attacks over the years. The Middle East & North Africa together with South Asia have had over 52 % of all the attacks between 1970 and 2017. When comparing those regions with the ones that have had the least amount of attacks the skewness becomes obvious.\n",
    "\n",
    "Let's investigate the number of attacks per region on a year to year basis."
   ]
  },
  {
   "cell_type": "code",
   "execution_count": null,
   "metadata": {
    "scrolled": false
   },
   "outputs": [],
   "source": [
    "traces= []\n",
    "regions = list(df['Region'].unique())\n",
    "\n",
    "for region in regions:\n",
    "    trace = go.Scatter(\n",
    "        x=years,\n",
    "        y=df_temp[df_temp['Region'] == region]['NumberOfAttacks'],\n",
    "        name= region,      \n",
    "        line = dict(),\n",
    "        opacity = 0.8\n",
    "    )\n",
    "    traces.append(trace)\n",
    "\n",
    "data = traces\n",
    "layout = dict(\n",
    "    title = 'Attacks within each Region by Year',\n",
    "    xaxis = dict(\n",
    "        title=\"Year\"\n",
    "    ),\n",
    "    yaxis = dict(\n",
    "        title=\"Number of Attacks\"\n",
    "    )\n",
    ")\n",
    "fig = dict(data=data, layout=layout)\n",
    "py.iplot(fig)"
   ]
  },
  {
   "cell_type": "markdown",
   "metadata": {},
   "source": [
    "This plot shows the same trend as above. The question is whether the increase is due to more sophisticated data collection methods and communication or that the number of attacks has increased.\n",
    "\n",
    "An observation from this plot is that both the regions with the highest number of attacks seem to be the only regions to have had a substantial increase in attacks around 2003. A deeper dive into this would have been interesting, but because it is beyond the purpose of the analysis, this will not be done. Another interesting phenomenon, which all regions share, is the noticeable drop in attacks in 1998.\n",
    "\n",
    "The number of attacks is one metric, but it could also be of value to look at the number of successful/failed attacks and the amount of killed and injured people."
   ]
  },
  {
   "cell_type": "code",
   "execution_count": null,
   "metadata": {},
   "outputs": [],
   "source": [
    "regions_sorted = []\n",
    "for region, attacks in df['Region'].value_counts().iteritems():\n",
    "    regions_sorted.append(region)"
   ]
  },
  {
   "cell_type": "code",
   "execution_count": null,
   "metadata": {},
   "outputs": [],
   "source": [
    "# these lists will be used inside plots down below\n",
    "number_killed_regions = []\n",
    "number_injured_regions = []\n",
    "success_regions = []\n",
    "failed_regions = []\n",
    "\n",
    "for region in regions_sorted:\n",
    "    killed = df[df['Region'] == region]['Killed'].sum()\n",
    "    injured = df[df['Region'] == region]['Injured'].sum()\n",
    "    successful = len(df[(df['Region'] == region) & (df['Success'] == 1)])\n",
    "    failed = len(df[(df['Region'] == region) & (df['Success'] == 0)])\n",
    "\n",
    "    \n",
    "    number_killed_regions.append(killed)\n",
    "    number_injured_regions.append(injured)\n",
    "    success_regions.append(successful)\n",
    "    failed_regions.append(failed)"
   ]
  },
  {
   "cell_type": "code",
   "execution_count": null,
   "metadata": {},
   "outputs": [],
   "source": [
    "def align_arrays(regions, feat1, feat2):\n",
    "    \"\"\"\n",
    "    Takes three lists and sorts them all based on the values inside feat1.sort(reverse=True)\n",
    "    \n",
    "    Args:\n",
    "        regions (list): List with region names\n",
    "        feat1 (list): List with integers that we want to sort by descending\n",
    "        feat2 (list): List with integers\n",
    "    \n",
    "    Returns:\n",
    "        regions_sorted (list): Regions sorted based on feat1_sorted\n",
    "        feat1_sorted (list): feat1 sorted by descending\n",
    "        feat2_sorted (list): feat2 sorted based on feat1_sorted\n",
    "    \"\"\"\n",
    "    feat1_sorted = feat1.copy()\n",
    "    feat2_sorted = feat2.copy()\n",
    "    feat1_sorted.sort(reverse=True)\n",
    "    regions_sorted = []\n",
    "    for i in range(len(regions)):\n",
    "        regions_sorted.append(\"\")\n",
    "    for idx, val in enumerate(feat1_sorted):\n",
    "        index = feat1.index(val)\n",
    "        regions_sorted[idx] = regions[index]\n",
    "        feat2_sorted[idx] = feat2[index]\n",
    "    \n",
    "    return regions_sorted, feat1_sorted, feat2_sorted\n"
   ]
  },
  {
   "cell_type": "code",
   "execution_count": null,
   "metadata": {},
   "outputs": [],
   "source": [
    "def plot_two_bars(names, yaxis, xaxis, colors = None):\n",
    "    \"\"\"\n",
    "    Plots grouped bar chart for y values and x.\n",
    "    \n",
    "    Args:\n",
    "        names (list): List of names to be used for axis\n",
    "        y1 (list): List containing integers for bar chart 1\n",
    "        y2 (list): List containing integers for bar chart 2\n",
    "        xaxis (string): List containing strings for xaxis\n",
    "        colors (list): List of colors to be used\n",
    "    \"\"\"\n",
    "    traces = []\n",
    "    counter = 0\n",
    "    colors = ['rgba(222,45,38,0.8)', 'rgb(204,204,204)']\n",
    "    \n",
    "    for y in yaxis:\n",
    "        trace = go.Bar(\n",
    "            x=xaxis,\n",
    "            y=y,\n",
    "            name=names[counter],\n",
    "            marker=dict(\n",
    "                color=colors[counter]\n",
    "            )\n",
    "        )\n",
    "        traces.append(trace)\n",
    "        counter += 1\n",
    "\n",
    "    data = traces\n",
    "    layout = go.Layout(\n",
    "        title=f'{names[0]} and {names[1]} by Region',\n",
    "        xaxis=go.layout.XAxis(\n",
    "            automargin=True,\n",
    "            tickangle=-50,\n",
    "            title='Region',\n",
    "        ),\n",
    "        yaxis=dict(\n",
    "            title=\"Count\"\n",
    "        ),\n",
    "        barmode='group',\n",
    "    )\n",
    "\n",
    "    fig = go.Figure(data=data, layout=layout)\n",
    "    py.iplot(fig)"
   ]
  },
  {
   "cell_type": "code",
   "execution_count": null,
   "metadata": {
    "scrolled": false
   },
   "outputs": [],
   "source": [
    "reg, killed, injured = align_arrays(regions_sorted, number_killed_regions, number_injured_regions)\n",
    "\n",
    "plot_two_bars(['Killed', 'Injured'], [killed, injured], reg)"
   ]
  },
  {
   "cell_type": "markdown",
   "metadata": {},
   "source": [
    "The plot above is sorted based on the total amount of people killed. Here we see a slight shift. Regions such as Sub-Saharan Africa and Central America & Caribbean looks to have endured attacks that are more deadly as well as more casualties in proportion to the number of attacks."
   ]
  },
  {
   "cell_type": "code",
   "execution_count": null,
   "metadata": {
    "scrolled": false
   },
   "outputs": [],
   "source": [
    "plot_two_bars(['Successful', 'Failed'], [success_regions, failed_regions], regions_sorted)"
   ]
  },
  {
   "cell_type": "markdown",
   "metadata": {},
   "source": [
    "A sad truth looks to be that a large proportion of the attacks carried out over the years have been successful."
   ]
  },
  {
   "cell_type": "code",
   "execution_count": null,
   "metadata": {
    "scrolled": false
   },
   "outputs": [],
   "source": [
    "num_attacks = df.groupby(['Year']).size()\n",
    "num_success = df.groupby(['Year'])['Success'].sum()\n",
    "\n",
    "trace = go.Scatter(\n",
    "    x=years,\n",
    "    y=np.divide(num_success, num_attacks),\n",
    "    name='Proportions',\n",
    "    line=dict(),\n",
    "    opacity = 0.8\n",
    ")\n",
    "\n",
    "layout = dict(\n",
    "    title = 'Proportions of Successful Attacks by Year',\n",
    "    xaxis = dict(\n",
    "        title=\"Year\"\n",
    "    ),\n",
    "    yaxis = dict(\n",
    "        title=\"Proportion\"\n",
    "    )\n",
    ")\n",
    "\n",
    "data = [trace]\n",
    "\n",
    "fig = dict(data=data, layout=layout)\n",
    "py.iplot(fig)"
   ]
  },
  {
   "cell_type": "markdown",
   "metadata": {},
   "source": [
    "Finally, a positive sign. From the year 2007 and forward we observe a steady decline in the number of successful attacks in proportion to the total number of attacks."
   ]
  },
  {
   "cell_type": "code",
   "execution_count": null,
   "metadata": {},
   "outputs": [],
   "source": [
    "# set path to location where world map file is located\n",
    "path = os.getcwd()\n",
    "os.environ[\"CARTOPY_USER_BACKGROUNDS\"] = path + '\\BG'"
   ]
  },
  {
   "cell_type": "code",
   "execution_count": null,
   "metadata": {},
   "outputs": [],
   "source": [
    "def create_map(date, data, ax=None, resolution='low'):\n",
    "    if ax is None:\n",
    "        fig = plt.figure(figsize=(19.2, 10.8))\n",
    "        ax = plt.axes(projection=ccrs.Mercator(min_latitude=-65,\n",
    "                                               max_latitude=70))\n",
    "    \n",
    "    ax.background_img(name='BM', resolution=resolution)\n",
    "    ax.set_extent([-170, 179, -65, 70], crs=ccrs.PlateCarree())\n",
    "    \n",
    "    attacks = data[data['Year'] == date]\n",
    "    attacks = attacks.groupby(['Longitude', 'Latitude'])['Killed'].agg('sum').rename('Killed').reset_index()\n",
    "    \n",
    "    avg_killed = data[data['Year'] == 2001].groupby(['Year'])['Killed'].mean().reset_index()\n",
    "    \n",
    "    #colors = {'High': '#f95c3c',\n",
    "    #          'Low': '#02b3e4'}\n",
    "    colors = {'High': '#f95c3c',\n",
    "              'Low': '#ecc81a'}\n",
    "\n",
    "    for idx, row in attacks.iterrows():\n",
    "        longs = row['Longitude']\n",
    "        lats = row['Latitude']\n",
    "        sizes = row['Killed'] ** 0.555 * 8\n",
    "        if row['Killed'] > 10:\n",
    "            color = colors['High']\n",
    "        else:\n",
    "            color = colors['Low']\n",
    "\n",
    "        ax.scatter(longs, lats, s=sizes, color=color, alpha=0.8, transform=ccrs.PlateCarree())\n",
    "    \n",
    "    fontsize = 28\n",
    "    # Positions for the date and counter\n",
    "    date_x = -53\n",
    "    date_y = -50\n",
    "    date_spacing = 90\n",
    "    name_x = -70\n",
    "    name_y = -60      \n",
    "    name_spacing = {'High': 55,\n",
    "                    'Low': 1.9*55}\n",
    "    \n",
    "    ax.text(date_x, date_y, \n",
    "            \"YEAR: \", \n",
    "            color='white',\n",
    "            fontsize=fontsize,\n",
    "            transform=ccrs.PlateCarree()) \n",
    "    \n",
    "    ax.text(date_x + 23, date_y, \n",
    "            f\"{date}\", \n",
    "            color='white',\n",
    "            fontsize=fontsize*1.3,\n",
    "            transform=ccrs.PlateCarree())\n",
    "\n",
    "    ax.text(date_x + date_spacing, date_y, \n",
    "            \"KILLED:\", color='white',\n",
    "            fontsize=fontsize,\n",
    "            transform=ccrs.PlateCarree())\n",
    "    ax.text(date_x + date_spacing*1.33, date_y, \n",
    "            f\"{data[data['Year'] == date]['Killed'].sum()}\",\n",
    "            color='white', ha='left',\n",
    "            fontsize=fontsize*1.3,\n",
    "            transform=ccrs.PlateCarree())\n",
    "    for val in ['High', 'Low']:\n",
    "        ax.text(name_x + name_spacing[val], \n",
    "                name_y, \n",
    "                val.upper(), ha='center',\n",
    "                fontsize=fontsize*1.1,\n",
    "                color=colors[val],\n",
    "                transform=ccrs.PlateCarree())\n",
    "    \n",
    "    return ax"
   ]
  },
  {
   "cell_type": "code",
   "execution_count": null,
   "metadata": {},
   "outputs": [],
   "source": [
    "fig = plt.figure(figsize=(19.2, 10.8))\n",
    "ax = plt.axes(projection=ccrs.Mercator(min_latitude=-65,\n",
    "                                       max_latitude=70))\n",
    "\n",
    "start_date = 2014\n",
    "end_date = 2017\n",
    "\n",
    "for ii, date in [x for x in enumerate(range(start_date, end_date + 1))]:\n",
    "    if date == 1993:\n",
    "        continue\n",
    "    ax = create_map(date, df, ax=ax, resolution='high')\n",
    "    num = 44 + ii\n",
    "    fig.tight_layout(pad=-0.5)\n",
    "    fig.savefig(f\"frames/frame_{num:04d}.png\", dpi=300,     \n",
    "                frameon=False, facecolor='black')\n",
    "    ax.clear()"
   ]
  },
  {
   "cell_type": "code",
   "execution_count": null,
   "metadata": {},
   "outputs": [],
   "source": [
    "video = io.open('attacks3.mp4', 'r+b').read()\n",
    "encoded = base64.b64encode(video)\n",
    "HTML(data='''<video alt=\"test\" controls>\n",
    "                <source src=\"data:video/mp4;base64,{0}\" type=\"video/mp4\" />\n",
    "             </video>'''.format(encoded.decode('ascii')))"
   ]
  },
  {
   "cell_type": "markdown",
   "metadata": {},
   "source": [
    "The points on the map represent all the terrorist attacks with casualties larger than 0.  The number of casualties determines the size and color. \n",
    "\n",
    "As seen by the other plots in this analysis there seem to be a trend which points to an increase in attacks as well as more people affected. This is most evident in the Middle East, Sub-Saharan Africa, and South Asia.\n",
    "\n",
    "Large areas around the globe (Russia, Greenland, Canada & Australia) looks to have been affected by only a few attacks over the years. What these areas have in common is that they are sparsely populated."
   ]
  },
  {
   "cell_type": "markdown",
   "metadata": {},
   "source": [
    "## 4.3 Different Attack types"
   ]
  },
  {
   "cell_type": "code",
   "execution_count": null,
   "metadata": {
    "scrolled": true
   },
   "outputs": [],
   "source": [
    "df_attack_type = df.groupby('AttackType')['Killed'].agg(['sum', 'count']).reset_index().rename(columns={'sum': 'Killed', 'count': 'Count'})"
   ]
  },
  {
   "cell_type": "code",
   "execution_count": null,
   "metadata": {},
   "outputs": [],
   "source": [
    "df_attack_type_count_sort = df_attack_type.sort_values('Count', ascending=False)\n",
    "\n",
    "trace = go.Bar(\n",
    "    x=df_attack_type_count_sort['AttackType'],\n",
    "    y=df_attack_type_count_sort['Count'],\n",
    "    name='Type',\n",
    "    marker=dict(\n",
    "        color= 'rgba(222,45,38,0.8)'\n",
    "    ),\n",
    "    opacity = 0.8\n",
    ")\n",
    "\n",
    "layout = dict(\n",
    "    title = 'Most common attack types',\n",
    "    xaxis=go.layout.XAxis(\n",
    "        automargin=True,\n",
    "        tickangle=-20,\n",
    "        title='Type',\n",
    "    ),\n",
    "    yaxis = dict(\n",
    "        title=\"Number of attacks\"\n",
    "    )\n",
    ")\n",
    "\n",
    "data = [trace]\n",
    "\n",
    "fig = dict(data=data, layout=layout)\n",
    "py.iplot(fig)"
   ]
  },
  {
   "cell_type": "code",
   "execution_count": null,
   "metadata": {
    "scrolled": true
   },
   "outputs": [],
   "source": [
    "df_attack_type['AvgKilled'] = df_attack_type['Killed'] / df_attack_type['Count']\n",
    "df_attack_type_avgkilled_sorted = df_attack_type.sort_values('AvgKilled', ascending=True)\n",
    "\n",
    "trace = go.Bar(\n",
    "    x=df_attack_type_avgkilled_sorted['AvgKilled'],\n",
    "    y=df_attack_type_avgkilled_sorted['AttackType'],\n",
    "    name='Type',\n",
    "    marker=dict(\n",
    "        color= 'rgba(222,45,38,0.8)'\n",
    "    ),\n",
    "    opacity = 0.8,\n",
    "    orientation = 'h'\n",
    ")\n",
    "\n",
    "layout = dict(\n",
    "    title = 'Average people killed per Attack type',\n",
    "    xaxis = dict(\n",
    "        title=\"Average killed\"\n",
    "    ),\n",
    "    yaxis=go.layout.YAxis(\n",
    "        automargin=True,\n",
    "    ),\n",
    ")\n",
    "\n",
    "data = [trace]\n",
    "\n",
    "fig = dict(data=data, layout=layout)\n",
    "py.iplot(fig)"
   ]
  },
  {
   "cell_type": "code",
   "execution_count": null,
   "metadata": {},
   "outputs": [],
   "source": [
    "amount_killed_11sep = df[(df['Year'] == 2001) & (df['AttackType'] == 'Hijacking') & (df['Region'] == \"North America\")]['Killed'].sum()\n",
    "hypo_avg = amount_killed_11sep / 604"
   ]
  },
  {
   "cell_type": "markdown",
   "metadata": {},
   "source": [
    "The first chart shows that a large portion of the terrorist attacks is classified as either bombings or armed assaults. One possible explanation for this could be that these forms of attacks demand fewer preparations than some of the other ones. The accessibility of weapons and explosives could be a factor here.\n",
    "\n",
    "Hijacking is the form of attack that has killed the largest amount of people per attack. This may be due to the fact this type is relatively uncommon in combination with the high number of people killed by the September 11 attacks. If we imagine that the people who died in those attacks were the total amount killed by Hijacking (3001 people) the average amount of killed for Hijacking would be 4.969, which is still the 4th highest amount."
   ]
  },
  {
   "cell_type": "code",
   "execution_count": null,
   "metadata": {},
   "outputs": [],
   "source": [
    "hostage = df[(df['AttackType'] == 'Hostage Taking (Barricade Incident)') & (df['Killed'] > 50)]\n",
    "print(f'Hostage attacks with killed over 50: {len(hostage)}')\n",
    "\n",
    "hijacking = df[(df['AttackType'] == 'Hijacking') & (df['Killed'] > 50)]\n",
    "print(f'Hijacking attacks with killed over 50: {len(hijacking)}')"
   ]
  },
  {
   "cell_type": "code",
   "execution_count": null,
   "metadata": {},
   "outputs": [],
   "source": [
    "df_attack_type_by_year = df.groupby(['Year', 'AttackType'])['Killed'].agg(['sum', 'count']).reset_index().rename(columns={'sum': 'Killed', 'count': 'Count'})"
   ]
  },
  {
   "cell_type": "code",
   "execution_count": null,
   "metadata": {},
   "outputs": [],
   "source": [
    "traces= []\n",
    "types = list(df_attack_type_by_year['AttackType'].unique())\n",
    "\n",
    "for attack_type in types:\n",
    "    trace = go.Scatter(\n",
    "        x=years,\n",
    "        y=df_attack_type_by_year[df_attack_type_by_year['AttackType'] == attack_type]['Count'],\n",
    "        name= attack_type,      \n",
    "        line = dict(),\n",
    "        opacity = 0.8\n",
    "    )\n",
    "    traces.append(trace)\n",
    "\n",
    "data = traces\n",
    "layout = dict(\n",
    "    title = 'Number of attacks for each Attack Type by Year',\n",
    "    xaxis = dict(\n",
    "        title=\"Year\"\n",
    "    ),\n",
    "    yaxis = dict(\n",
    "        title=\"Number of Attacks\"\n",
    "    )\n",
    ")\n",
    "fig = dict(data=data, layout=layout)\n",
    "py.iplot(fig)"
   ]
  },
  {
   "cell_type": "code",
   "execution_count": null,
   "metadata": {
    "scrolled": false
   },
   "outputs": [],
   "source": [
    "traces= []\n",
    "types = list(df_attack_type_by_year['AttackType'].unique())\n",
    "\n",
    "for attack_type in types:\n",
    "    trace = go.Scatter(\n",
    "        x=years,\n",
    "        y=df_attack_type_by_year[df_attack_type_by_year['AttackType'] == attack_type]['Killed'],\n",
    "        name= attack_type,      \n",
    "        line = dict(),\n",
    "        opacity = 0.8\n",
    "    )\n",
    "    traces.append(trace)\n",
    "\n",
    "data = traces\n",
    "layout = dict(\n",
    "    title = 'Number of people killed by each Attack Type Yearly',\n",
    "    xaxis = dict(\n",
    "        title=\"Year\"\n",
    "    ),\n",
    "    yaxis = dict(\n",
    "        title=\"People Killed\"\n",
    "    )\n",
    ")\n",
    "fig = dict(data=data, layout=layout)\n",
    "py.iplot(fig)"
   ]
  },
  {
   "cell_type": "code",
   "execution_count": null,
   "metadata": {},
   "outputs": [],
   "source": [
    "df_attack_type"
   ]
  },
  {
   "cell_type": "markdown",
   "metadata": {},
   "source": [
    "With 81,976 attacks and 156,924 people killed bombing has without a doubt been the most frequently used method as well as the second most deadly attack behind armed assault which has killed 159,799. Hijacking has the highest average killed per attack."
   ]
  },
  {
   "cell_type": "markdown",
   "metadata": {},
   "source": [
    "# 5. Conclusion\n",
    "\n",
    "See separate blog post [here](https://medium.com/@michel.naslund/a-journey-through-the-global-terrorism-database-ce35076d5289)."
   ]
  },
  {
   "cell_type": "code",
   "execution_count": null,
   "metadata": {},
   "outputs": [],
   "source": []
  }
 ],
 "metadata": {
  "kernelspec": {
   "display_name": "Python 3",
   "language": "python",
   "name": "python3"
  },
  "language_info": {
   "codemirror_mode": {
    "name": "ipython",
    "version": 3
   },
   "file_extension": ".py",
   "mimetype": "text/x-python",
   "name": "python",
   "nbconvert_exporter": "python",
   "pygments_lexer": "ipython3",
   "version": "3.7.0"
  }
 },
 "nbformat": 4,
 "nbformat_minor": 2
}
